{
 "cells": [
  {
   "cell_type": "markdown",
   "metadata": {},
   "source": [
    "# Ejercicio Siguelínea Infrarrojos\n",
    "\n",
    "## Tabla resumen de sensores y actuadores\n",
    "\n",
    "| Función                 | Descripción                                                  |\n",
    "| ----------------------- | ------------------------------------------------------------ |\n",
    "| `leerIRSigueLineas()` | Lee los dos sensores de IR y nos devuelve un valor entre 0 y 3. |\n",
    "| `avanzar(v)`        | Hace que el PiBot avance en línea recta con una velocidad lineal igual a `v` expresada en metros/segundo. |\n",
    "| `retroceder(v)`     | Hace que el PiBot retroceda en línea recta con una velocidad lineal igual a `v` expresada en metros/segundo. |\n",
    "| `girarIzquierda(w)` | Hace que el PiBot gire a la izquierda sobre su eje (sin avanzar) con una velocidad angular igual a `w` expresada en radianes/segundo. |\n",
    "| `girarDerecha(w)`   | Hace que el PiBot gire a la derecha sobre su eje (sin avanzar) con una velocidad angular igual a `w` expresada en radianes/segundo. |\n",
    "| `parar()`            | Hace que el PiBot se detenga (si estaba avanzando, retrocediendo o girando). |\n",
    "    \n",
    "    \n",
    "    \n",
    "El valor entre 0 y 3 que devuelve la función depende de las lecturas de los dos sensores de IR, de acuerdo a la siguiente tabla:\n",
    "\n",
    "| lectura IR izquierdo |lectura IR derecho | valor de leerIRSigueLineas() |\n",
    "|--------|--------|--------|\n",
    "| negro | negro | 0 |\n",
    "| negro | blanco | 1 |\n",
    "| blanco | negro | 2 |\n",
    "| blanco | blanco | 3 |\n",
    "\n",
    "Estos cuatro valores que nos devuelve la función `leerIRSigueLineas()` se corresponden con:\n",
    "\n",
    "    \n",
    "|valor = 0| valor = 1 |valor = 2 |valor = 3 |\n",
    "|--------|--------|--------|--------|\n",
    "|![image](https://kibotics.org/static/img/notebooks_images/sigue_linea_ir/sigue_linea_ir_cero.png)|![image](https://kibotics.org/static/img/notebooks_images/sigue_linea_ir/sigue_linea_ir_uno.png)|![image](https://kibotics.org/static/img/notebooks_images/sigue_linea_ir/sigue_linea_ir_dos.png)|![image](https://kibotics.org/static/img/notebooks_images/sigue_linea_ir/sigue_linea_ir_tres.png)|"
   ]
  },
  {
   "cell_type": "code",
   "execution_count": null,
   "metadata": {
    "scrolled": false
   },
   "outputs": [],
   "source": [
    "# Importar las librerías necesarias.\n",
    "import sys\n",
    "sys.path.insert(0, '/usr/local/lib/python2.7')\n",
    "sys.path.insert(0, '/opt/jderobot/lib/python2.7')\n",
    "\n",
    "import PiBot\n",
    "import time"
   ]
  },
  {
   "cell_type": "code",
   "execution_count": null,
   "metadata": {
    "scrolled": true
   },
   "outputs": [],
   "source": [
    "if __name__ == \"__main__\":\n",
    "    \n",
    "    # Cargamos el robot\n",
    "    robot = PiBot.dameRobot()\n",
    "    \n",
    "    # En myJdeRobotKids tendré la instancia de my objeto, para trabajar con el, independientemente del HW\n",
    "    robot.quienSoy()\n",
    "    print (\"\\nA continuacion se ejecuta su codigo con el robot\\n\")\n",
    "\n",
    "    # TODO: escribe aqui tu codigo\n",
    "    ################################\n",
    "    ir = robot.leerIRSigueLineas()\n",
    "    print (ir)\n",
    "    \n",
    "    # Ejemplo de movimiento.\n",
    "    robot.avanzar(1)\n",
    "    time.sleep(2)\n",
    "    robot.parar()\n",
    "\n",
    "    robot.girarIzquierda(1)\n",
    "    time.sleep(4.1)\n",
    "    robot.parar()\n",
    "    robot.avanzar(1)\n",
    "    time.sleep(2)\n",
    "    robot.parar()\n",
    "\n",
    "    robot.girarIzquierda(1)\n",
    "    time.sleep(4.1)\n",
    "    robot.parar()\n",
    "    robot.avanzar(1)\n",
    "    time.sleep(2)\n",
    "    robot.parar()\n",
    "\n",
    "    robot.girarIzquierda(1)\n",
    "    time.sleep(4.1)\n",
    "    robot.parar()\n",
    "    robot.avanzar(1)\n",
    "    time.sleep(2)\n",
    "    robot.parar()\n",
    "\n",
    "    robot.girarIzquierda(1)\n",
    "    time.sleep(4.1)\n",
    "    robot.parar()\n",
    "    robot.avanzar(1)\n",
    "    time.sleep(2)\n",
    "    robot.parar()"
   ]
  }
 ],
 "metadata": {
  "kernelspec": {
   "display_name": "Python 2",
   "language": "python",
   "name": "python2"
  },
  "language_info": {
   "codemirror_mode": {
    "name": "ipython",
    "version": 3
   },
   "file_extension": ".py",
   "mimetype": "text/x-python",
   "name": "python",
   "nbconvert_exporter": "python",
   "pygments_lexer": "ipython3",
   "version": "3.5.2"
  }
 },
 "nbformat": 4,
 "nbformat_minor": 2
}
