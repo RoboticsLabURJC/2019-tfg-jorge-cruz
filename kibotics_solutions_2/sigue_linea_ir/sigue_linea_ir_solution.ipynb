{
 "cells": [
  {
   "cell_type": "code",
   "execution_count": 4,
   "metadata": {
    "scrolled": false
   },
   "outputs": [],
   "source": [
    "import sys\n",
    "sys.path.insert(0, '/usr/local/lib/python2.7')\n",
    "sys.path.insert(0, '/opt/jderobot/lib/python2.7')\n",
    "\n",
    "import PiBot\n",
    "import time"
   ]
  },
  {
   "cell_type": "code",
   "execution_count": 5,
   "metadata": {},
   "outputs": [
    {
     "name": "stdout",
     "output_type": "stream",
     "text": [
      "loading Config file ./JdeRobotKids.yml\n",
      "En constructor\n",
      "loading Config file ./JdeRobotKids.yml\n",
      "Receiving JdeRobotKids.Sim.Camera Image from ICE interfaces\n",
      "Publishing JdeRobotKids.Sim.Motors with ICE interfaces\n",
      "Receiving JdeRobotKids.Sim.IRLeft IRData from ICE interfaces\n",
      "Receiving JdeRobotKids.Sim.IRRight IRData from ICE interfaces\n",
      "JdeRobotKids.Sim.Sonar Disabled\n",
      "Yo soy un robot simulado PiBot\n",
      "A continuacion se ejecuta su codigo con el robot\n",
      "0\n"
     ]
    }
   ],
   "source": [
    "if __name__ == \"__main__\":\n",
    "    # cargamos el robot\n",
    "    robot = PiBot.dameRobot()\n",
    "    \n",
    "    # En myJdeRobotKids tendre la instancia de my objeto, para trabajar con el, independientemente del HW\n",
    "    robot.quienSoy()\n",
    "    print (\"A continuacion se ejecuta su codigo con el robot\")\n",
    "\n",
    "    # TODO: escribe aqui tu codigo\n",
    "    while True:\n",
    "        ir = robot.leerIRSigueLineas()\n",
    "        if ir == 0:\n",
    "            robot.avanzar(0.2)\n",
    "        elif ir == 1:\n",
    "            robot.parar()\n",
    "            robot.girarIzquierda(0.3)\n",
    "        elif ir == 2:\n",
    "            robot.parar()\n",
    "            robot.girarDerecha(0.3)\n",
    "        elif ir == 3:\n",
    "            robot.parar()\n",
    "            robot.girarIzquierda(0.3)\n",
    "    robot.parar()"
   ]
  },
  {
   "cell_type": "code",
   "execution_count": null,
   "metadata": {},
   "outputs": [],
   "source": []
  }
 ],
 "metadata": {
  "kernelspec": {
   "display_name": "Python 2",
   "language": "python",
   "name": "python2"
  },
  "language_info": {
   "codemirror_mode": {
    "name": "ipython",
    "version": 3
   },
   "file_extension": ".py",
   "mimetype": "text/x-python",
   "name": "python",
   "nbconvert_exporter": "python",
   "pygments_lexer": "ipython3",
   "version": "3.5.2"
  }
 },
 "nbformat": 4,
 "nbformat_minor": 2
}
