{
 "cells": [
  {
   "cell_type": "markdown",
   "metadata": {},
   "source": [
    "# Solución al ejercicio ChocaGiraUS"
   ]
  },
  {
   "cell_type": "code",
   "execution_count": null,
   "metadata": {},
   "outputs": [],
   "source": [
    "import sys\n",
    "sys.path.insert(0, '/usr/local/lib/python2.7')\n",
    "sys.path.insert(0, '/opt/jderobot/lib/python2.7')\n",
    "\n",
    "import PiBot\n",
    "import time"
   ]
  },
  {
   "cell_type": "code",
   "execution_count": null,
   "metadata": {},
   "outputs": [],
   "source": [
    "if __name__ == \"__main__\":\n",
    "    # cargamos el robot\n",
    "    robot = PiBot.dameRobot()\n",
    "    \n",
    "    # En myJdeRobotKids tendre la instancia de my objeto, para trabajar con el, independientemente del HW\n",
    "    robot.quienSoy()\n",
    "    print (\"A continuacion se ejecuta su codigo con el robot\")\n",
    "\n",
    "    # TODO: escribe aqui tu codigo\n",
    "    while True:\n",
    "        d = robot.leerUltrasonido()\n",
    "        if d < 0.5:\n",
    "            robot.parar()\n",
    "            robot.girarDerecha(0.75)\n",
    "            time.sleep(1)\n",
    "        robot.avanzar(0.6)\n",
    "        time.sleep(0.05)\n",
    "    \n",
    "    robot.parar()"
   ]
  }
 ],
 "metadata": {
  "kernelspec": {
   "display_name": "Python 3",
   "language": "python",
   "name": "python3"
  },
  "language_info": {
   "codemirror_mode": {
    "name": "ipython",
    "version": 3
   },
   "file_extension": ".py",
   "mimetype": "text/x-python",
   "name": "python",
   "nbconvert_exporter": "python",
   "pygments_lexer": "ipython3",
   "version": "3.5.2"
  }
 },
 "nbformat": 4,
 "nbformat_minor": 2
}
