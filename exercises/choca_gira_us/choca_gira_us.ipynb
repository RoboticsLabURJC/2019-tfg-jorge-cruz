{
 "cells": [
  {
   "cell_type": "markdown",
   "metadata": {},
   "source": [
    "# Ejercicio ChocaGira Ultrasonidos\n",
    "\n",
    "## Tabla resumen de sensores y actuadores\n",
    "\n",
    "| Función | Descripción |\n",
    "|---------|    ---    |\n",
    "|`leerUltrasonido()`| Lee el sensor de US y nos devuelve un valor que representa la distancia (en metros) a un obstáculo que se encuentre enfrente del PiBot|\n",
    "| `avanzar(`v`)`       | Hace que el PiBot avance en línea recta con una velocidad lineal igual a `v` expresada en metros/segundo      |\n",
    "| `retroceder(`v`)`       | Hace que el PiBot retroceda en línea recta con una velocidad lineal igual a `v` expresada en metros/segundo      |\n",
    "| `girarIzquierda(`w`)`       | Hace que el PiBot gire a la izquierda sobre su eje (sin avanzar) con una velocidad angular igual a `w` expresada en radianes/segundo|\n",
    "| `girarDerecha(`w`)`       | Hace que el PiBot gire a la derecha sobre su eje (sin avanzar) con una velocidad angular igual a `w` expresada en radianes/segundo|\n",
    "| `parar()`       | Hace que el PiBot se detenga (si estaba avanzando, retrocediendo o girando)     |\n",
    "\n",
    "\n",
    "Los posibles valores que nos devuelve la función `leerUltrasonido()` se corresponden con diferentes distancias del PiBot con respecto al obstáculo que tiene enfrente. Por ejemplo:\n",
    "\n",
    "    \n",
    "|valor = 4.01| valor = 3.32 |valor = 2.43 |valor = 1.62 |valor = 0.58 |\n",
    "|--------|--------|--------|--------|--------|\n",
    "|![image](https://kibotics.org/static/img/notebooks_images/choca_gira_us/choca_gira_distancia1.png)|![image](https://kibotics.org/static/img/notebooks_images/choca_gira_us/choca_gira_distancia2.png)|![image](https://kibotics.org/static/img/notebooks_images/choca_gira_us/choca_gira_distancia3.png)|![image](https://kibotics.org/static/img/notebooks_images/choca_gira_us/choca_gira_distancia4.png)|![image](https://kibotics.org/static/img/notebooks_images/choca_gira_us/choca_gira_distancia5.png)|\n",
    "\n",
    "**NOTA:** Recordamos que $2\\pi$; radianes equivalen a 360 grados."
   ]
  },
  {
   "cell_type": "code",
   "execution_count": null,
   "metadata": {
    "scrolled": false
   },
   "outputs": [],
   "source": [
    "import sys\n",
    "sys.path.insert(0, '/usr/local/lib/python2.7')\n",
    "sys.path.insert(0, '/opt/jderobot/lib/python2.7')\n",
    "\n",
    "import PiBot\n",
    "import time\n",
    "import random"
   ]
  },
  {
   "cell_type": "code",
   "execution_count": null,
   "metadata": {
    "scrolled": true
   },
   "outputs": [],
   "source": [
    "if __name__ == \"__main__\":\n",
    "    \n",
    "    # Cargamos el robot\n",
    "    robot = PiBot.dameRobot()\n",
    "    \n",
    "    # Información acerca del PiBot\n",
    "    robot.quienSoy()\n",
    "    print (\"\\nA continuacion se ejecuta su codigo con el robot\\n\")\n",
    "\n",
    "    # TODO: escribe aqui tu codigo\n",
    "\n",
    "    us = robot.leerUltrasonido()\n",
    "    print (us)\n",
    "    \n",
    "    time.sleep(1)\n",
    "    robot.parar()"
   ]
  }
 ],
 "metadata": {
  "kernelspec": {
   "display_name": "Python 2",
   "language": "python",
   "name": "python2"
  },
  "language_info": {
   "codemirror_mode": {
    "name": "ipython",
    "version": 3
   },
   "file_extension": ".py",
   "mimetype": "text/x-python",
   "name": "python",
   "nbconvert_exporter": "python",
   "pygments_lexer": "ipython3",
   "version": "3.5.2"
  }
 },
 "nbformat": 4,
 "nbformat_minor": 2
}
