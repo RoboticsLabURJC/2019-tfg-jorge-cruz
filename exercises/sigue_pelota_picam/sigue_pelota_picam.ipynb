{
 "cells": [
  {
   "cell_type": "markdown",
   "metadata": {},
   "source": [
    "# Ejercicio - ¡Sigue la pelota, PiBot!.\n",
    "\n",
    "## Tabla resumen de los sensores y actuadores.\n",
    "\n",
    "Recuerda que la función `dameObjeto()` retorna dos valores: el **centro** y el **área**.\n",
    "\n",
    "| Función               | Descripción                                                  |\n",
    "| :-------------------- | :----------------------------------------------------------- |\n",
    "| `dameObjeto()`        | Esta función hará todo el trabajo sucio por ti, ya que es la que se encarga de hacer el filtro de color para aislar la pelota naranja y **devolverá** 2 números: centro y área.<br />- **centro**: son las coordenadas (`pixelX`, `pixelY`) del centro de la pelota en la imagen.<br />- **area**: es la superficie (numero de *pixeles*) que ocupa la pelota dentro de la imagen. |\n",
    "| `girarIzquierda(vel)` | Esta función hará que el robot sobre sí mismo hacia la izquierda a la velocidad dada como parámetro ($rad/s$). |\n",
    "| `girarDerecha(vel)`   | Esta función hará que el robot sobre sí mismo hacia la derecha a la velocidad dada como parámetro ($rad/s$). |\n",
    "| `avanzar(vel)`        | Esta función hará avanzar al robot a una velocidad dada como parámetro ($m/s$) |\n",
    "| `retroceder(vel)`     | Esta función hará retroceder al robot a una velocidad dada como parámetro ($m/s$). |\n",
    "\n",
    "\n"
   ]
  },
  {
   "cell_type": "code",
   "execution_count": null,
   "metadata": {},
   "outputs": [],
   "source": [
    "# -*- coding: utf-8 -*-\n",
    "import sys, time\n",
    "sys.path.insert(0, '/usr/local/lib/python2.7')\n",
    "sys.path.insert(0, '/opt/jderobot/lib/python2.7')\n",
    "import PiBot "
   ]
  },
  {
   "cell_type": "code",
   "execution_count": null,
   "metadata": {},
   "outputs": [],
   "source": [
    "# Creamos el objeto robot\n",
    "robot = PiBot.dameRobot()\n",
    "\n",
    "while True:\n",
    "    \n",
    "    #Escribe aquí tu código\n",
    "    "
   ]
  }
 ],
 "metadata": {
  "kernelspec": {
   "display_name": "Python 2",
   "language": "python",
   "name": "python2"
  },
  "language_info": {
   "codemirror_mode": {
    "name": "ipython",
    "version": 3
   },
   "file_extension": ".py",
   "mimetype": "text/x-python",
   "name": "python",
   "nbconvert_exporter": "python",
   "pygments_lexer": "ipython3",
   "version": "3.5.2"
  }
 },
 "nbformat": 4,
 "nbformat_minor": 2
}
